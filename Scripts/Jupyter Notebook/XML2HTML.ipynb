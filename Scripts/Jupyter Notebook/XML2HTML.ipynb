{
 "cells": [
  {
   "cell_type": "code",
   "execution_count": 75,
   "metadata": {
    "collapsed": false
   },
   "outputs": [
    {
     "ename": "TabError",
     "evalue": "inconsistent use of tabs and spaces in indentation (<ipython-input-75-c1f48436ae67>, line 61)",
     "output_type": "error",
     "traceback": [
      "\u001b[0;36m  File \u001b[0;32m\"<ipython-input-75-c1f48436ae67>\"\u001b[0;36m, line \u001b[0;32m61\u001b[0m\n\u001b[0;31m    f.write(\"</body></html>\")\u001b[0m\n\u001b[0m                             ^\u001b[0m\n\u001b[0;31mTabError\u001b[0m\u001b[0;31m:\u001b[0m inconsistent use of tabs and spaces in indentation\n"
     ]
    }
   ],
   "source": [
    "#!/usr/bin/env python3\n",
    "# -*- coding: utf-8 -*-\n",
    "###############\n",
    "###SYNOPSIS####\n",
    "###############\n",
    "#\n",
    "#Auteur : Mingqiang Wang\n",
    "#\n",
    "#Date : 01/01/[18]\n",
    "#\n",
    "#Mise à jour : \n",
    "#\n",
    "#But : Transformer une fiche fontaine à boire xlk en xml\n",
    "#\n",
    "#Usage : python3 XML2HTML.py\n",
    "#\n",
    "#Exemple : /\n",
    "#\n",
    "#Remarques :  fichier avec  \n",
    "#\t\t\t\t\t\t\t- Nom : \n",
    "#\t\t\t\t\t\t\t- <autres élèments> :\n",
    "###############\n",
    "\n",
    "from lxml import etree\n",
    "from collections import defaultdict\n",
    "FICHIER = 'fontaines-a-boire.xml'\n",
    "tree = etree.parse(FICHIER)\n",
    "\n",
    "Aroo_Aboire= tree.xpath(\"//arro|//a_boire\")\n",
    "\n",
    "Aroo_Aboiredict=defaultdict(list)\n",
    "\n",
    "Aroo_Aboirelist=[]\n",
    "for c in Aroo_Aboire:\n",
    "    Aroo_Aboirelist.append(c.text)\n",
    "    \n",
    "for i in range(len(Aroo_Aboirelist)):\n",
    "    if i%2==0:\n",
    "        c=i\n",
    "    else:\n",
    "        b=i\n",
    "        Aroo_Aboiredict[Aroo_Aboirelist[c]].append(Aroo_Aboirelist[b])\n",
    "\n",
    "for arr in Aroo_Aboiredict:\n",
    "    print(\"le nombre de fontaine potable dans l'arrodissement {} est {}, non potable est {}\".format(arr,Aroo_Aboiredict[arr].count('1'),Aroo_Aboiredict[arr].count('0')))\n",
    "\n",
    "\n",
    "with open('fontaine_potable.html','w') as f:\n",
    "    f.write(\"<!DOCTYPE html><html><head><title>Tableau Fontaine Potable</title></head><body>\")\n",
    "    f.write(\"<body><table border=\\\"1\\\" align=\\\"center\\\"><tr>\")\n",
    "    f.write(\"<th style=\\\"font-size:20px\\\">Arroddisment</th>\")\n",
    "    f.write(\"<th style=\\\"font-size:20px\\\">Nombre Potable</th>\")\n",
    "    f.write(\"<th style=\\\"font-size:20px\\\">Non Potable</th></tr>\")\n",
    "    for arr in Aroo_Aboiredict:\n",
    "        f.write(\"<tr>\")\n",
    "        f.write(\"<td align=\\\"center\\\">{}</td>\".format(arr))\n",
    "        f.write(\"<td align=\\\"center\\\">{}</td>\".format(Aroo_Aboiredict[arr].count('1')))\n",
    "        f.write(\"<td align=\\\"center\\\">{}</td>\".format(Aroo_Aboiredict[arr].count('0')))\n",
    "        f.write(\"</tr>\")\n",
    "    f.write(\"</table>\")\n",
    "\tf.write(\"</body></html>\")\n",
    "\n"
   ]
  },
  {
   "cell_type": "code",
   "execution_count": null,
   "metadata": {
    "collapsed": true
   },
   "outputs": [],
   "source": []
  }
 ],
 "metadata": {
  "kernelspec": {
   "display_name": "Python 3",
   "language": "python",
   "name": "python3"
  },
  "language_info": {
   "codemirror_mode": {
    "name": "ipython",
    "version": 3
   },
   "file_extension": ".py",
   "mimetype": "text/x-python",
   "name": "python",
   "nbconvert_exporter": "python",
   "pygments_lexer": "ipython3",
   "version": "3.5.3"
  }
 },
 "nbformat": 4,
 "nbformat_minor": 2
}
