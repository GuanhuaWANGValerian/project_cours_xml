{
 "cells": [
  {
   "cell_type": "code",
   "execution_count": 29,
   "metadata": {
    "collapsed": false
   },
   "outputs": [
    {
     "name": "stdout",
     "output_type": "stream",
     "text": [
      "{'75014', '75016', '75001', '75017', '75019', '75010', '75020', '75006', '75002', '75012', '75003', '75009', '75007', '75011', '75018', '75015', '75013', '75005', '75008', '75004'}\n",
      "1421\n",
      "1421\n",
      "1421\n",
      "1421\n",
      "1421\n",
      "1421\n",
      "1421\n",
      "1421\n",
      "1421\n",
      "1421\n",
      "1421\n",
      "1421\n",
      "1421\n",
      "1421\n",
      "1421\n",
      "1421\n",
      "1421\n",
      "1421\n",
      "1421\n",
      "1421\n"
     ]
    }
   ],
   "source": [
    "#!/usr/bin/env python3\n",
    "# -*- coding: utf-8 -*-\n",
    "###############\n",
    "###SYNOPSIS####\n",
    "###############\n",
    "#\n",
    "#Auteur : Mingqiang Wang\n",
    "#\n",
    "#Date : 01/01/[18]\n",
    "#\n",
    "#Mise à jour : \n",
    "#\n",
    "#But : Transformer une fiche fontaine à boire xml en html\n",
    "#\n",
    "#Usage : python3 XML2HTML.py\n",
    "#\n",
    "#Exemple : /\n",
    "#\n",
    "#Remarques :  fichier avec  \n",
    "#\t\t\t\t\t\t\t- Nom : \n",
    "#\t\t\t\t\t\t\t- <autres élèments> :\n",
    "###############\n",
    "\n",
    "from lxml import etree\n",
    "from collections import defaultdict\n",
    "FICHIER = 'fontaines-a-boire.xml'\n",
    "tree = etree.parse(FICHIER)\n",
    "Aboire=tree.xpath(\"//a_boire\")\n",
    "Arro=tree.xpath(\"//arro\")\n",
    "Aroo_Aboire=defaultdict(list)\n",
    "\n",
    "cc=list()\n",
    "for i in Arro:\n",
    "    cc.append(i.text)\n",
    "cc=set(cc)\n",
    "print(cc)\n",
    "\n",
    "\n",
    "\n"
   ]
  },
  {
   "cell_type": "code",
   "execution_count": null,
   "metadata": {
    "collapsed": true
   },
   "outputs": [],
   "source": []
  }
 ],
 "metadata": {
  "kernelspec": {
   "display_name": "Python 3",
   "language": "python",
   "name": "python3"
  },
  "language_info": {
   "codemirror_mode": {
    "name": "ipython",
    "version": 3
   },
   "file_extension": ".py",
   "mimetype": "text/x-python",
   "name": "python",
   "nbconvert_exporter": "python",
   "pygments_lexer": "ipython3",
   "version": "3.5.3"
  }
 },
 "nbformat": 4,
 "nbformat_minor": 2
}
